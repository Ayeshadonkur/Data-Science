{
  "nbformat": 4,
  "nbformat_minor": 0,
  "metadata": {
    "colab": {
      "provenance": [],
      "authorship_tag": "ABX9TyMKxmoUu35DmtYnKXvD601S",
      "include_colab_link": true
    },
    "kernelspec": {
      "name": "python3",
      "display_name": "Python 3"
    },
    "language_info": {
      "name": "python"
    }
  },
  "cells": [
    {
      "cell_type": "markdown",
      "metadata": {
        "id": "view-in-github",
        "colab_type": "text"
      },
      "source": [
        "<a href=\"https://colab.research.google.com/github/Ayeshadonkur/Data-Science/blob/main/python_hands_on_session.ipynb\" target=\"_parent\"><img src=\"https://colab.research.google.com/assets/colab-badge.svg\" alt=\"Open In Colab\"/></a>"
      ]
    },
    {
      "cell_type": "code",
      "execution_count": null,
      "metadata": {
        "id": "n_raXz4zPJQ3"
      },
      "outputs": [],
      "source": [
        "retail_inventory = {\n",
        "    \"Electronics\": {\n",
        "        \"Laptop\": [55000, 30, \"Dell\"],\n",
        "        \"Mobile\": [25000, 50, \"Samsung\"],\n",
        "        \"Tablet\": [18000, 20, \"Lenovo\"],\n",
        "        \"Smart Watch\": [7999, 40, \"Noise\"]\n",
        "    },\n",
        "    \"Apparel\": {\n",
        "        \"T-Shirt\": [499, 100, \"H&M\"],\n",
        "        \"Jeans\": [1199, 60, \"Levi's\"],\n",
        "        \"Jacket\": [2499, 25, \"Puma\"]\n",
        "    },\n",
        "    \"Home Appliances\": {\n",
        "        \"Microwave\": [8500, 15, \"LG\"],\n",
        "        \"Vacuum Cleaner\": [7000, 10, \"Philips\"],\n",
        "        \"Refrigerator\": [30000, 8, \"Samsung\"]\n",
        "    }\n",
        "}"
      ]
    },
    {
      "cell_type": "markdown",
      "source": [
        "How do you get all the keys from a dictionary?"
      ],
      "metadata": {
        "id": "TFATITyrSLzY"
      }
    },
    {
      "cell_type": "code",
      "source": [
        "print(retail_inventory.keys())\n"
      ],
      "metadata": {
        "colab": {
          "base_uri": "https://localhost:8080/"
        },
        "id": "N0CsF5DQPKGu",
        "outputId": "df923d2a-a31a-478d-b107-a1065f493067"
      },
      "execution_count": null,
      "outputs": [
        {
          "output_type": "stream",
          "name": "stdout",
          "text": [
            "dict_keys(['Electronics', 'Apparel', 'Home Appliances'])\n"
          ]
        }
      ]
    },
    {
      "cell_type": "code",
      "source": [
        "print(list(retail_inventory.keys()))\n"
      ],
      "metadata": {
        "colab": {
          "base_uri": "https://localhost:8080/"
        },
        "id": "85uNwThsPKI5",
        "outputId": "2bd001a2-96d0-493f-e9c0-4f71ce1ef30b"
      },
      "execution_count": null,
      "outputs": [
        {
          "output_type": "stream",
          "name": "stdout",
          "text": [
            "['Electronics', 'Apparel', 'Home Appliances']\n"
          ]
        }
      ]
    },
    {
      "cell_type": "code",
      "source": [
        "for category in retail_inventory:\n",
        "  print(f\"{category}:{list(retail_inventory[category].keys())}\")"
      ],
      "metadata": {
        "colab": {
          "base_uri": "https://localhost:8080/"
        },
        "id": "MhOBdR1TPKLe",
        "outputId": "ae136edf-7466-4718-e6df-723814cf06ba"
      },
      "execution_count": null,
      "outputs": [
        {
          "output_type": "stream",
          "name": "stdout",
          "text": [
            "Electronics:['Laptop', 'Mobile', 'Tablet', 'Smart Watch']\n",
            "Apparel:['T-Shirt', 'Jeans', 'Jacket']\n",
            "Home Appliances:['Microwave', 'Vacuum Cleaner', 'Refrigerator']\n"
          ]
        }
      ]
    },
    {
      "cell_type": "code",
      "source": [
        "print(list(retail_inventory.values()))\n",
        "\n"
      ],
      "metadata": {
        "colab": {
          "base_uri": "https://localhost:8080/"
        },
        "id": "2c9x2mWpPKN5",
        "outputId": "3f870d20-09d6-4721-c5df-5c9d75b4d94f"
      },
      "execution_count": null,
      "outputs": [
        {
          "output_type": "stream",
          "name": "stdout",
          "text": [
            "[{'Laptop': [55000, 30, 'Dell'], 'Mobile': [25000, 50, 'Samsung'], 'Tablet': [18000, 20, 'Lenovo'], 'Smart Watch': [7999, 40, 'Noise']}, {'T-Shirt': [499, 100, 'H&M'], 'Jeans': [1199, 60, \"Levi's\"], 'Jacket': [2499, 25, 'Puma']}, {'Microwave': [8500, 15, 'LG'], 'Vacuum Cleaner': [7000, 10, 'Philips'], 'Refrigerator': [30000, 8, 'Samsung']}]\n"
          ]
        }
      ]
    },
    {
      "cell_type": "markdown",
      "source": [
        "How do you get all the values from a dictionary?"
      ],
      "metadata": {
        "id": "F1ZVv_rQSFrY"
      }
    },
    {
      "cell_type": "code",
      "source": [
        "for category in retail_inventory:\n",
        "  print(f\"{category}:{list(retail_inventory[category].values())}\")"
      ],
      "metadata": {
        "colab": {
          "base_uri": "https://localhost:8080/"
        },
        "id": "FlGdioEFQpBn",
        "outputId": "fabe9456-50ea-43cc-e5fb-ec6ae2cdfed6"
      },
      "execution_count": null,
      "outputs": [
        {
          "output_type": "stream",
          "name": "stdout",
          "text": [
            "Electronics:[[55000, 30, 'Dell'], [25000, 50, 'Samsung'], [18000, 20, 'Lenovo'], [7999, 40, 'Noise']]\n",
            "Apparel:[[499, 100, 'H&M'], [1199, 60, \"Levi's\"], [2499, 25, 'Puma']]\n",
            "Home Appliances:[[8500, 15, 'LG'], [7000, 10, 'Philips'], [30000, 8, 'Samsung']]\n"
          ]
        }
      ]
    },
    {
      "cell_type": "markdown",
      "source": [
        "How do you retrieve the value for a specific key safely?"
      ],
      "metadata": {
        "id": "fVvmu7AgR8u5"
      }
    },
    {
      "cell_type": "code",
      "source": [
        "category_data=retail_inventory.get(\"Electronics\")\n",
        "print(category_data)"
      ],
      "metadata": {
        "colab": {
          "base_uri": "https://localhost:8080/"
        },
        "id": "SDJtlPl6Qo-K",
        "outputId": "53509d35-21db-4d03-e80a-db2e564cc8ea"
      },
      "execution_count": null,
      "outputs": [
        {
          "output_type": "stream",
          "name": "stdout",
          "text": [
            "{'Laptop': [55000, 30, 'Dell'], 'Mobile': [25000, 50, 'Samsung'], 'Tablet': [18000, 20, 'Lenovo'], 'Smart Watch': [7999, 40, 'Noise']}\n"
          ]
        }
      ]
    },
    {
      "cell_type": "code",
      "source": [
        "category_data=retail_inventory.get(\"Home Appliances\")\n",
        "print(category_data)"
      ],
      "metadata": {
        "colab": {
          "base_uri": "https://localhost:8080/"
        },
        "id": "AFrfAoMjQo7O",
        "outputId": "2c84a2bc-bfa4-4f3e-8c6d-8a046ba2b315"
      },
      "execution_count": null,
      "outputs": [
        {
          "output_type": "stream",
          "name": "stdout",
          "text": [
            "{'Microwave': [8500, 15, 'LG'], 'Vacuum Cleaner': [7000, 10, 'Philips'], 'Refrigerator': [30000, 8, 'Samsung']}\n"
          ]
        }
      ]
    },
    {
      "cell_type": "markdown",
      "source": [
        "How do you check if a key exists in a dictionary"
      ],
      "metadata": {
        "id": "oi1bf9lYRyip"
      }
    },
    {
      "cell_type": "code",
      "source": [
        "if \"Electronics\" in retail_inventory:\n",
        "  print(\"Electronics category found\")\n",
        "else:\n",
        "  print(\"Electronics category not found\")"
      ],
      "metadata": {
        "colab": {
          "base_uri": "https://localhost:8080/"
        },
        "id": "CdwPnIduQo4p",
        "outputId": "c405bb28-b882-47b0-a9ff-8c54404aa5e3"
      },
      "execution_count": null,
      "outputs": [
        {
          "output_type": "stream",
          "name": "stdout",
          "text": [
            "Electronics category found\n"
          ]
        }
      ]
    },
    {
      "cell_type": "markdown",
      "source": [
        "How do you remove a key and return its value?"
      ],
      "metadata": {
        "id": "Kj-OcK8tSh5c"
      }
    },
    {
      "cell_type": "code",
      "source": [
        "removed_product = retail_inventory[\"Electronics\"].pop(\"Tablet\")\n",
        "print(\"Removed:\", removed_product)\n"
      ],
      "metadata": {
        "colab": {
          "base_uri": "https://localhost:8080/"
        },
        "id": "uTTW9IVnRdcl",
        "outputId": "d3478b3f-a80f-47e6-f33f-4c9237e6f673"
      },
      "execution_count": null,
      "outputs": [
        {
          "output_type": "stream",
          "name": "stdout",
          "text": [
            "Removed: [18000, 20, 'Lenovo']\n"
          ]
        }
      ]
    },
    {
      "cell_type": "markdown",
      "source": [
        "How do you copy a dictionary?"
      ],
      "metadata": {
        "id": "B9ul0njfTL0x"
      }
    },
    {
      "cell_type": "code",
      "source": [
        "copied_inventory = retail_inventory.copy()\n"
      ],
      "metadata": {
        "id": "Z2-OrGvMRdZJ"
      },
      "execution_count": null,
      "outputs": []
    },
    {
      "cell_type": "code",
      "source": [
        "copied_inventory=list(retail_inventory.values())\n",
        "print(copied_inventory)"
      ],
      "metadata": {
        "colab": {
          "base_uri": "https://localhost:8080/"
        },
        "id": "4lB2bVogRdT_",
        "outputId": "6ab81c88-0902-4127-8f42-a7c3c4e24ea8"
      },
      "execution_count": null,
      "outputs": [
        {
          "output_type": "stream",
          "name": "stdout",
          "text": [
            "[{'Laptop': [55000, 30, 'Dell'], 'Mobile': [25000, 50, 'Samsung'], 'Smart Watch': [7999, 40, 'Noise']}, {'T-Shirt': [499, 100, 'H&M'], 'Jeans': [1199, 60, \"Levi's\"], 'Jacket': [2499, 25, 'Puma']}, {'Microwave': [8500, 15, 'LG'], 'Vacuum Cleaner': [7000, 10, 'Philips'], 'Refrigerator': [30000, 8, 'Samsung']}]\n"
          ]
        }
      ]
    },
    {
      "cell_type": "markdown",
      "source": [
        "How do you remove all key-value pairs from a dictionary?"
      ],
      "metadata": {
        "id": "iKFC7rjxTnKw"
      }
    },
    {
      "cell_type": "code",
      "source": [
        "retail_inventory.clear()\n",
        "print(retail_inventory)\n"
      ],
      "metadata": {
        "colab": {
          "base_uri": "https://localhost:8080/"
        },
        "id": "pS62AVu8RdOI",
        "outputId": "82cd1b8f-446c-4da1-a836-d5d887ee7c5f"
      },
      "execution_count": null,
      "outputs": [
        {
          "output_type": "stream",
          "name": "stdout",
          "text": [
            "{}\n"
          ]
        }
      ]
    },
    {
      "cell_type": "markdown",
      "source": [
        "How do you add or update a value for a key?"
      ],
      "metadata": {
        "id": "esosdh0DT1bS"
      }
    },
    {
      "cell_type": "code",
      "source": [
        "retail_inventory[\"Books\"] = {\n",
        "    \"Novel\": [399, 80, \"Penguin\"],\n",
        "    \"Comics\": [199, 120, \"Marvel\"]\n",
        "}\n",
        "print(retail_inventory)"
      ],
      "metadata": {
        "colab": {
          "base_uri": "https://localhost:8080/"
        },
        "id": "Ns3JPYr2TNn0",
        "outputId": "a644cf6e-f4f3-418d-af7a-7592e7d9ca5e"
      },
      "execution_count": null,
      "outputs": [
        {
          "output_type": "stream",
          "name": "stdout",
          "text": [
            "{'Books': {'Novel': [399, 80, 'Penguin'], 'Comics': [199, 120, 'Marvel']}}\n"
          ]
        }
      ]
    },
    {
      "cell_type": "markdown",
      "source": [
        "How do you retrieve both keys and values?"
      ],
      "metadata": {
        "id": "C51elXb8WdH7"
      }
    },
    {
      "cell_type": "code",
      "source": [
        "for category, products in retail_inventory.items():\n",
        "    print(f\"Category: {category}\")\n",
        "    print(f\"Products: {products}\")\n",
        "    print()\n"
      ],
      "metadata": {
        "colab": {
          "base_uri": "https://localhost:8080/"
        },
        "id": "BXExuIAVTNhh",
        "outputId": "a51bf9b1-1b39-4bb8-c89d-0ed78d54d575"
      },
      "execution_count": null,
      "outputs": [
        {
          "output_type": "stream",
          "name": "stdout",
          "text": [
            "Category: Electronics\n",
            "Products: {'Laptop': [55000, 30, 'Dell'], 'Mobile': [25000, 50, 'Samsung'], 'Tablet': [18000, 20, 'Lenovo'], 'Smart Watch': [7999, 40, 'Noise']}\n",
            "\n",
            "Category: Apparel\n",
            "Products: {'T-Shirt': [499, 100, 'H&M'], 'Jeans': [1199, 60, \"Levi's\"], 'Jacket': [2499, 25, 'Puma']}\n",
            "\n",
            "Category: Home Appliances\n",
            "Products: {'Microwave': [8500, 15, 'LG'], 'Vacuum Cleaner': [7000, 10, 'Philips'], 'Refrigerator': [30000, 8, 'Samsung']}\n",
            "\n"
          ]
        }
      ]
    },
    {
      "cell_type": "markdown",
      "source": [
        "How do you create an empty dictionary?\n"
      ],
      "metadata": {
        "id": "HXNEVs0sW6ZS"
      }
    },
    {
      "cell_type": "code",
      "source": [
        "empty_dict={}\n",
        "print(empty_dict)"
      ],
      "metadata": {
        "colab": {
          "base_uri": "https://localhost:8080/"
        },
        "id": "J5H3vTIfWel5",
        "outputId": "98d0a623-5232-448d-9260-68cff96b74bc"
      },
      "execution_count": null,
      "outputs": [
        {
          "output_type": "stream",
          "name": "stdout",
          "text": [
            "{}\n"
          ]
        }
      ]
    },
    {
      "cell_type": "code",
      "source": [],
      "metadata": {
        "id": "FxyoxEhTXVpa"
      },
      "execution_count": null,
      "outputs": []
    },
    {
      "cell_type": "code",
      "source": [],
      "metadata": {
        "id": "zLLvHz94Wfcz"
      },
      "execution_count": null,
      "outputs": []
    },
    {
      "cell_type": "code",
      "source": [],
      "metadata": {
        "id": "0B1NDMdSWfY9"
      },
      "execution_count": null,
      "outputs": []
    },
    {
      "cell_type": "code",
      "source": [],
      "metadata": {
        "id": "MwaEDvQIWfOU"
      },
      "execution_count": null,
      "outputs": []
    },
    {
      "cell_type": "code",
      "source": [],
      "metadata": {
        "id": "0YCCh4m5WfK4"
      },
      "execution_count": null,
      "outputs": []
    }
  ]
}